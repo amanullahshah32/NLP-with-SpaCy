{
  "cells": [
    {
      "cell_type": "code",
      "source": [
        "from google.colab import drive\n",
        "drive.mount('/content/drive')"
      ],
      "metadata": {
        "id": "9MjvK2NATBkJ"
      },
      "id": "9MjvK2NATBkJ",
      "execution_count": null,
      "outputs": []
    },
    {
      "cell_type": "code",
      "execution_count": null,
      "id": "eed87b30-1337-44fb-8f43-73dff1c68789",
      "metadata": {
        "scrolled": true,
        "id": "eed87b30-1337-44fb-8f43-73dff1c68789"
      },
      "outputs": [],
      "source": [
        "!pip install spacy --quiet"
      ]
    },
    {
      "cell_type": "code",
      "execution_count": null,
      "id": "4414c01d-232a-4f9d-b0b5-ca7a697455d6",
      "metadata": {
        "scrolled": true,
        "id": "4414c01d-232a-4f9d-b0b5-ca7a697455d6"
      },
      "outputs": [],
      "source": [
        "# python -m spacy download en_core_web_sm # this is for terminal command"
      ]
    },
    {
      "cell_type": "code",
      "execution_count": null,
      "id": "b34c05c5-6a12-4ac0-bb71-17993f07899a",
      "metadata": {
        "id": "b34c05c5-6a12-4ac0-bb71-17993f07899a"
      },
      "outputs": [],
      "source": [
        "import spacy\n",
        "spacy.cli.download(\"en_core_web_sm\")\n"
      ]
    },
    {
      "cell_type": "code",
      "execution_count": null,
      "id": "d1676daa-a69c-4116-9a43-4fb386a5a7ae",
      "metadata": {
        "id": "d1676daa-a69c-4116-9a43-4fb386a5a7ae"
      },
      "outputs": [],
      "source": [
        "import spacy"
      ]
    },
    {
      "cell_type": "code",
      "execution_count": null,
      "id": "e267b57e-e961-411b-a271-4bba1d68a46d",
      "metadata": {
        "id": "e267b57e-e961-411b-a271-4bba1d68a46d"
      },
      "outputs": [],
      "source": [
        "nlp = spacy.load('en_core_web_sm')"
      ]
    },
    {
      "cell_type": "code",
      "execution_count": null,
      "id": "884c18de-bf5e-4bb9-b839-537478f6a4e3",
      "metadata": {
        "id": "884c18de-bf5e-4bb9-b839-537478f6a4e3"
      },
      "outputs": [],
      "source": [
        "nlp"
      ]
    },
    {
      "cell_type": "code",
      "execution_count": null,
      "id": "c2f5dbb4-09c3-4857-b1f2-17962d0fb8ac",
      "metadata": {
        "id": "c2f5dbb4-09c3-4857-b1f2-17962d0fb8ac"
      },
      "outputs": [],
      "source": [
        "with open ()"
      ]
    }
  ],
  "metadata": {
    "kernelspec": {
      "display_name": "Python 3 (ipykernel)",
      "language": "python",
      "name": "python3"
    },
    "language_info": {
      "codemirror_mode": {
        "name": "ipython",
        "version": 3
      },
      "file_extension": ".py",
      "mimetype": "text/x-python",
      "name": "python",
      "nbconvert_exporter": "python",
      "pygments_lexer": "ipython3",
      "version": "3.11.4"
    },
    "colab": {
      "provenance": []
    }
  },
  "nbformat": 4,
  "nbformat_minor": 5
}